{
 "cells": [
  {
   "cell_type": "code",
   "execution_count": 1,
   "id": "be43cef3-9ce6-4f78-8a05-690bd881f669",
   "metadata": {},
   "outputs": [],
   "source": [
    "import pandas as pd"
   ]
  },
  {
   "cell_type": "markdown",
   "id": "91644910-b095-4474-b8ad-90088d508ce0",
   "metadata": {},
   "source": [
    "## 1. Data preparation"
   ]
  },
  {
   "cell_type": "markdown",
   "id": "2ffc83b3-41a3-4d4e-ae31-ccce5be2f2f1",
   "metadata": {},
   "source": [
    "#### Import data "
   ]
  },
  {
   "cell_type": "code",
   "execution_count": 4,
   "id": "4fd67c87-541f-493e-a680-04a3d5b12450",
   "metadata": {},
   "outputs": [],
   "source": [
    "df = pd.read_csv(\"IR Dec25_480min.csv\", parse_dates = [\"Timestamp (UTC)\"], index_col = \"Timestamp (UTC)\")"
   ]
  },
  {
   "cell_type": "code",
   "execution_count": 5,
   "id": "76b5161c-7a30-4297-b2e4-c58202bacd3c",
   "metadata": {},
   "outputs": [
    {
     "data": {
      "text/html": [
       "<div>\n",
       "<style scoped>\n",
       "    .dataframe tbody tr th:only-of-type {\n",
       "        vertical-align: middle;\n",
       "    }\n",
       "\n",
       "    .dataframe tbody tr th {\n",
       "        vertical-align: top;\n",
       "    }\n",
       "\n",
       "    .dataframe thead th {\n",
       "        text-align: right;\n",
       "    }\n",
       "</style>\n",
       "<table border=\"1\" class=\"dataframe\">\n",
       "  <thead>\n",
       "    <tr style=\"text-align: right;\">\n",
       "      <th></th>\n",
       "      <th>Open</th>\n",
       "      <th>High</th>\n",
       "      <th>Low</th>\n",
       "      <th>Close</th>\n",
       "      <th>IR Dec25: Volume</th>\n",
       "    </tr>\n",
       "    <tr>\n",
       "      <th>Timestamp (UTC)</th>\n",
       "      <th></th>\n",
       "      <th></th>\n",
       "      <th></th>\n",
       "      <th></th>\n",
       "      <th></th>\n",
       "    </tr>\n",
       "  </thead>\n",
       "  <tbody>\n",
       "    <tr>\n",
       "      <th>2024-02-07 06:08:00</th>\n",
       "      <td>96.39</td>\n",
       "      <td>96.40</td>\n",
       "      <td>96.35</td>\n",
       "      <td>96.36</td>\n",
       "      <td>1350</td>\n",
       "    </tr>\n",
       "    <tr>\n",
       "      <th>2024-02-07 14:08:00</th>\n",
       "      <td>96.37</td>\n",
       "      <td>96.40</td>\n",
       "      <td>96.36</td>\n",
       "      <td>96.37</td>\n",
       "      <td>316</td>\n",
       "    </tr>\n",
       "    <tr>\n",
       "      <th>2024-02-07 21:28:00</th>\n",
       "      <td>96.39</td>\n",
       "      <td>96.40</td>\n",
       "      <td>96.37</td>\n",
       "      <td>96.39</td>\n",
       "      <td>1280</td>\n",
       "    </tr>\n",
       "    <tr>\n",
       "      <th>2024-02-08 05:28:00</th>\n",
       "      <td>96.38</td>\n",
       "      <td>96.38</td>\n",
       "      <td>96.37</td>\n",
       "      <td>96.38</td>\n",
       "      <td>466</td>\n",
       "    </tr>\n",
       "    <tr>\n",
       "      <th>2024-02-08 06:08:00</th>\n",
       "      <td>96.37</td>\n",
       "      <td>96.39</td>\n",
       "      <td>96.35</td>\n",
       "      <td>96.36</td>\n",
       "      <td>489</td>\n",
       "    </tr>\n",
       "  </tbody>\n",
       "</table>\n",
       "</div>"
      ],
      "text/plain": [
       "                      Open   High    Low  Close  IR Dec25: Volume\n",
       "Timestamp (UTC)                                                  \n",
       "2024-02-07 06:08:00  96.39  96.40  96.35  96.36              1350\n",
       "2024-02-07 14:08:00  96.37  96.40  96.36  96.37               316\n",
       "2024-02-07 21:28:00  96.39  96.40  96.37  96.39              1280\n",
       "2024-02-08 05:28:00  96.38  96.38  96.37  96.38               466\n",
       "2024-02-08 06:08:00  96.37  96.39  96.35  96.36               489"
      ]
     },
     "execution_count": 5,
     "metadata": {},
     "output_type": "execute_result"
    }
   ],
   "source": [
    "df.head()"
   ]
  },
  {
   "cell_type": "code",
   "execution_count": 6,
   "id": "a0c35163-ecd0-424d-9233-166917863f27",
   "metadata": {},
   "outputs": [
    {
     "data": {
      "text/plain": [
       "pandas.core.indexes.datetimes.DatetimeIndex"
      ]
     },
     "execution_count": 6,
     "metadata": {},
     "output_type": "execute_result"
    }
   ],
   "source": [
    "type(df.index)"
   ]
  },
  {
   "cell_type": "code",
   "execution_count": 7,
   "id": "2737d5ef-67d7-422c-935f-62c2dfec3f5a",
   "metadata": {},
   "outputs": [],
   "source": [
    "df.dropna(inplace = True)"
   ]
  },
  {
   "cell_type": "code",
   "execution_count": 8,
   "id": "7ed76c04-3943-409a-a8ad-bae0c7f0ea70",
   "metadata": {},
   "outputs": [
    {
     "data": {
      "text/plain": [
       "(147, 5)"
      ]
     },
     "execution_count": 8,
     "metadata": {},
     "output_type": "execute_result"
    }
   ],
   "source": [
    "df.shape"
   ]
  },
  {
   "cell_type": "markdown",
   "id": "36f68f34-f6d1-4790-9b75-e2efae0f6e0d",
   "metadata": {},
   "source": [
    "**rename volume column:**"
   ]
  },
  {
   "cell_type": "code",
   "execution_count": 10,
   "id": "b4b24702-b0f7-4ee5-a3f9-a2d528ee1912",
   "metadata": {},
   "outputs": [],
   "source": [
    "df = df.rename(columns={'IR Dec25: Volume': 'Volume'})"
   ]
  },
  {
   "cell_type": "markdown",
   "id": "bc6faf0d-4408-42d0-8592-0c73d8c95566",
   "metadata": {},
   "source": [
    "## 2. Create features"
   ]
  },
  {
   "cell_type": "code",
   "execution_count": 12,
   "id": "7d3e16f8-4484-433c-a890-a15f2dd960ef",
   "metadata": {},
   "outputs": [],
   "source": [
    "df['hl'] = df['High'] - df['Low']"
   ]
  },
  {
   "cell_type": "code",
   "execution_count": 13,
   "id": "45c5332b-0eeb-47eb-a9a9-668a5a47a151",
   "metadata": {},
   "outputs": [],
   "source": [
    "df['oc'] = abs(df['Open'] - df['Close'])"
   ]
  },
  {
   "cell_type": "code",
   "execution_count": 14,
   "id": "76ebb69f-a303-4c1d-9541-e069183eeb0a",
   "metadata": {},
   "outputs": [],
   "source": [
    "df['hl-oc'] = df['hl']-df['oc']"
   ]
  },
  {
   "cell_type": "code",
   "execution_count": 15,
   "id": "5bde253c-1ad9-4b64-aeda-6ae6101ead65",
   "metadata": {},
   "outputs": [],
   "source": [
    "df['hl/vol'] = (df['hl']/df['Volume'])"
   ]
  },
  {
   "cell_type": "code",
   "execution_count": 16,
   "id": "f9682d19-cf40-4c8c-9b40-5d56201ac61e",
   "metadata": {},
   "outputs": [],
   "source": [
    "df['5DayRollingStdDev'] = df['Close'].rolling(window=5).std()"
   ]
  },
  {
   "cell_type": "code",
   "execution_count": 17,
   "id": "e39207b9-2714-4ea8-8c4f-c8bd12a0f9f5",
   "metadata": {},
   "outputs": [],
   "source": [
    "df.dropna(inplace = True)"
   ]
  },
  {
   "cell_type": "code",
   "execution_count": 18,
   "id": "d151c2d9-3e57-4cb8-9cf2-c6221794412c",
   "metadata": {},
   "outputs": [
    {
     "data": {
      "text/html": [
       "<div>\n",
       "<style scoped>\n",
       "    .dataframe tbody tr th:only-of-type {\n",
       "        vertical-align: middle;\n",
       "    }\n",
       "\n",
       "    .dataframe tbody tr th {\n",
       "        vertical-align: top;\n",
       "    }\n",
       "\n",
       "    .dataframe thead th {\n",
       "        text-align: right;\n",
       "    }\n",
       "</style>\n",
       "<table border=\"1\" class=\"dataframe\">\n",
       "  <thead>\n",
       "    <tr style=\"text-align: right;\">\n",
       "      <th></th>\n",
       "      <th>Open</th>\n",
       "      <th>High</th>\n",
       "      <th>Low</th>\n",
       "      <th>Close</th>\n",
       "      <th>Volume</th>\n",
       "      <th>hl</th>\n",
       "      <th>oc</th>\n",
       "      <th>hl-oc</th>\n",
       "      <th>hl/vol</th>\n",
       "      <th>5DayRollingStdDev</th>\n",
       "    </tr>\n",
       "    <tr>\n",
       "      <th>Timestamp (UTC)</th>\n",
       "      <th></th>\n",
       "      <th></th>\n",
       "      <th></th>\n",
       "      <th></th>\n",
       "      <th></th>\n",
       "      <th></th>\n",
       "      <th></th>\n",
       "      <th></th>\n",
       "      <th></th>\n",
       "      <th></th>\n",
       "    </tr>\n",
       "  </thead>\n",
       "  <tbody>\n",
       "    <tr>\n",
       "      <th>2024-02-08 06:08:00</th>\n",
       "      <td>96.37</td>\n",
       "      <td>96.39</td>\n",
       "      <td>96.35</td>\n",
       "      <td>96.36</td>\n",
       "      <td>489</td>\n",
       "      <td>0.04</td>\n",
       "      <td>0.01</td>\n",
       "      <td>0.03</td>\n",
       "      <td>0.000082</td>\n",
       "      <td>0.013038</td>\n",
       "    </tr>\n",
       "    <tr>\n",
       "      <th>2024-02-08 14:08:00</th>\n",
       "      <td>96.36</td>\n",
       "      <td>96.36</td>\n",
       "      <td>96.34</td>\n",
       "      <td>96.34</td>\n",
       "      <td>157</td>\n",
       "      <td>0.02</td>\n",
       "      <td>0.02</td>\n",
       "      <td>0.00</td>\n",
       "      <td>0.000127</td>\n",
       "      <td>0.019235</td>\n",
       "    </tr>\n",
       "    <tr>\n",
       "      <th>2024-02-08 21:28:00</th>\n",
       "      <td>96.36</td>\n",
       "      <td>96.36</td>\n",
       "      <td>96.32</td>\n",
       "      <td>96.34</td>\n",
       "      <td>1077</td>\n",
       "      <td>0.04</td>\n",
       "      <td>0.02</td>\n",
       "      <td>0.02</td>\n",
       "      <td>0.000037</td>\n",
       "      <td>0.022804</td>\n",
       "    </tr>\n",
       "    <tr>\n",
       "      <th>2024-02-09 05:28:00</th>\n",
       "      <td>96.35</td>\n",
       "      <td>96.35</td>\n",
       "      <td>96.35</td>\n",
       "      <td>96.35</td>\n",
       "      <td>5</td>\n",
       "      <td>0.00</td>\n",
       "      <td>0.00</td>\n",
       "      <td>0.00</td>\n",
       "      <td>0.000000</td>\n",
       "      <td>0.016733</td>\n",
       "    </tr>\n",
       "    <tr>\n",
       "      <th>2024-02-09 06:08:00</th>\n",
       "      <td>96.33</td>\n",
       "      <td>96.33</td>\n",
       "      <td>96.29</td>\n",
       "      <td>96.30</td>\n",
       "      <td>1436</td>\n",
       "      <td>0.04</td>\n",
       "      <td>0.03</td>\n",
       "      <td>0.01</td>\n",
       "      <td>0.000028</td>\n",
       "      <td>0.022804</td>\n",
       "    </tr>\n",
       "  </tbody>\n",
       "</table>\n",
       "</div>"
      ],
      "text/plain": [
       "                      Open   High    Low  Close  Volume    hl    oc  hl-oc  \\\n",
       "Timestamp (UTC)                                                              \n",
       "2024-02-08 06:08:00  96.37  96.39  96.35  96.36     489  0.04  0.01   0.03   \n",
       "2024-02-08 14:08:00  96.36  96.36  96.34  96.34     157  0.02  0.02   0.00   \n",
       "2024-02-08 21:28:00  96.36  96.36  96.32  96.34    1077  0.04  0.02   0.02   \n",
       "2024-02-09 05:28:00  96.35  96.35  96.35  96.35       5  0.00  0.00   0.00   \n",
       "2024-02-09 06:08:00  96.33  96.33  96.29  96.30    1436  0.04  0.03   0.01   \n",
       "\n",
       "                       hl/vol  5DayRollingStdDev  \n",
       "Timestamp (UTC)                                   \n",
       "2024-02-08 06:08:00  0.000082           0.013038  \n",
       "2024-02-08 14:08:00  0.000127           0.019235  \n",
       "2024-02-08 21:28:00  0.000037           0.022804  \n",
       "2024-02-09 05:28:00  0.000000           0.016733  \n",
       "2024-02-09 06:08:00  0.000028           0.022804  "
      ]
     },
     "execution_count": 18,
     "metadata": {},
     "output_type": "execute_result"
    }
   ],
   "source": [
    "df.head()"
   ]
  },
  {
   "cell_type": "code",
   "execution_count": 19,
   "id": "9ade666d-b636-44c1-ab23-3d8c6c072bd1",
   "metadata": {},
   "outputs": [
    {
     "data": {
      "text/plain": [
       "(143, 10)"
      ]
     },
     "execution_count": 19,
     "metadata": {},
     "output_type": "execute_result"
    }
   ],
   "source": [
    "df.shape"
   ]
  },
  {
   "cell_type": "markdown",
   "id": "e1657a89-b7a6-4d1c-864d-f46b33ea76ed",
   "metadata": {},
   "source": [
    "#### Statistical analysis (mini)"
   ]
  },
  {
   "cell_type": "code",
   "execution_count": 21,
   "id": "d249a444-b559-49fa-b6eb-c34000953367",
   "metadata": {},
   "outputs": [
    {
     "data": {
      "text/html": [
       "<div>\n",
       "<style scoped>\n",
       "    .dataframe tbody tr th:only-of-type {\n",
       "        vertical-align: middle;\n",
       "    }\n",
       "\n",
       "    .dataframe tbody tr th {\n",
       "        vertical-align: top;\n",
       "    }\n",
       "\n",
       "    .dataframe thead th {\n",
       "        text-align: right;\n",
       "    }\n",
       "</style>\n",
       "<table border=\"1\" class=\"dataframe\">\n",
       "  <thead>\n",
       "    <tr style=\"text-align: right;\">\n",
       "      <th></th>\n",
       "      <th>Open</th>\n",
       "      <th>High</th>\n",
       "      <th>Low</th>\n",
       "      <th>Close</th>\n",
       "      <th>Volume</th>\n",
       "      <th>hl</th>\n",
       "      <th>oc</th>\n",
       "      <th>hl-oc</th>\n",
       "      <th>hl/vol</th>\n",
       "      <th>5DayRollingStdDev</th>\n",
       "    </tr>\n",
       "  </thead>\n",
       "  <tbody>\n",
       "    <tr>\n",
       "      <th>count</th>\n",
       "      <td>143.000000</td>\n",
       "      <td>143.000000</td>\n",
       "      <td>143.000000</td>\n",
       "      <td>143.000000</td>\n",
       "      <td>143.00000</td>\n",
       "      <td>143.000000</td>\n",
       "      <td>143.000000</td>\n",
       "      <td>143.000000</td>\n",
       "      <td>143.000000</td>\n",
       "      <td>143.000000</td>\n",
       "    </tr>\n",
       "    <tr>\n",
       "      <th>mean</th>\n",
       "      <td>96.309580</td>\n",
       "      <td>96.323706</td>\n",
       "      <td>96.295455</td>\n",
       "      <td>96.309860</td>\n",
       "      <td>855.65035</td>\n",
       "      <td>0.028252</td>\n",
       "      <td>0.015944</td>\n",
       "      <td>0.012308</td>\n",
       "      <td>0.000067</td>\n",
       "      <td>0.022115</td>\n",
       "    </tr>\n",
       "    <tr>\n",
       "      <th>std</th>\n",
       "      <td>0.067112</td>\n",
       "      <td>0.064837</td>\n",
       "      <td>0.069371</td>\n",
       "      <td>0.066756</td>\n",
       "      <td>803.60787</td>\n",
       "      <td>0.022745</td>\n",
       "      <td>0.017772</td>\n",
       "      <td>0.012875</td>\n",
       "      <td>0.000094</td>\n",
       "      <td>0.014065</td>\n",
       "    </tr>\n",
       "    <tr>\n",
       "      <th>min</th>\n",
       "      <td>96.110000</td>\n",
       "      <td>96.160000</td>\n",
       "      <td>96.110000</td>\n",
       "      <td>96.130000</td>\n",
       "      <td>1.00000</td>\n",
       "      <td>0.000000</td>\n",
       "      <td>0.000000</td>\n",
       "      <td>0.000000</td>\n",
       "      <td>0.000000</td>\n",
       "      <td>0.000000</td>\n",
       "    </tr>\n",
       "    <tr>\n",
       "      <th>25%</th>\n",
       "      <td>96.265000</td>\n",
       "      <td>96.280000</td>\n",
       "      <td>96.250000</td>\n",
       "      <td>96.270000</td>\n",
       "      <td>168.50000</td>\n",
       "      <td>0.010000</td>\n",
       "      <td>0.000000</td>\n",
       "      <td>0.000000</td>\n",
       "      <td>0.000018</td>\n",
       "      <td>0.013038</td>\n",
       "    </tr>\n",
       "    <tr>\n",
       "      <th>50%</th>\n",
       "      <td>96.300000</td>\n",
       "      <td>96.310000</td>\n",
       "      <td>96.280000</td>\n",
       "      <td>96.300000</td>\n",
       "      <td>626.00000</td>\n",
       "      <td>0.020000</td>\n",
       "      <td>0.010000</td>\n",
       "      <td>0.010000</td>\n",
       "      <td>0.000035</td>\n",
       "      <td>0.018708</td>\n",
       "    </tr>\n",
       "    <tr>\n",
       "      <th>80%</th>\n",
       "      <td>96.376000</td>\n",
       "      <td>96.390000</td>\n",
       "      <td>96.360000</td>\n",
       "      <td>96.370000</td>\n",
       "      <td>1575.60000</td>\n",
       "      <td>0.040000</td>\n",
       "      <td>0.030000</td>\n",
       "      <td>0.020000</td>\n",
       "      <td>0.000097</td>\n",
       "      <td>0.031714</td>\n",
       "    </tr>\n",
       "    <tr>\n",
       "      <th>90%</th>\n",
       "      <td>96.400000</td>\n",
       "      <td>96.410000</td>\n",
       "      <td>96.390000</td>\n",
       "      <td>96.398000</td>\n",
       "      <td>1964.00000</td>\n",
       "      <td>0.050000</td>\n",
       "      <td>0.040000</td>\n",
       "      <td>0.030000</td>\n",
       "      <td>0.000147</td>\n",
       "      <td>0.041425</td>\n",
       "    </tr>\n",
       "    <tr>\n",
       "      <th>95%</th>\n",
       "      <td>96.419000</td>\n",
       "      <td>96.430000</td>\n",
       "      <td>96.409000</td>\n",
       "      <td>96.420000</td>\n",
       "      <td>2276.60000</td>\n",
       "      <td>0.069000</td>\n",
       "      <td>0.049000</td>\n",
       "      <td>0.030000</td>\n",
       "      <td>0.000228</td>\n",
       "      <td>0.048287</td>\n",
       "    </tr>\n",
       "    <tr>\n",
       "      <th>99%</th>\n",
       "      <td>96.435800</td>\n",
       "      <td>96.450000</td>\n",
       "      <td>96.420000</td>\n",
       "      <td>96.435800</td>\n",
       "      <td>3187.44000</td>\n",
       "      <td>0.107400</td>\n",
       "      <td>0.081600</td>\n",
       "      <td>0.055800</td>\n",
       "      <td>0.000432</td>\n",
       "      <td>0.066750</td>\n",
       "    </tr>\n",
       "    <tr>\n",
       "      <th>max</th>\n",
       "      <td>96.440000</td>\n",
       "      <td>96.460000</td>\n",
       "      <td>96.440000</td>\n",
       "      <td>96.450000</td>\n",
       "      <td>3691.00000</td>\n",
       "      <td>0.120000</td>\n",
       "      <td>0.100000</td>\n",
       "      <td>0.060000</td>\n",
       "      <td>0.000714</td>\n",
       "      <td>0.068702</td>\n",
       "    </tr>\n",
       "  </tbody>\n",
       "</table>\n",
       "</div>"
      ],
      "text/plain": [
       "             Open        High         Low       Close      Volume          hl  \\\n",
       "count  143.000000  143.000000  143.000000  143.000000   143.00000  143.000000   \n",
       "mean    96.309580   96.323706   96.295455   96.309860   855.65035    0.028252   \n",
       "std      0.067112    0.064837    0.069371    0.066756   803.60787    0.022745   \n",
       "min     96.110000   96.160000   96.110000   96.130000     1.00000    0.000000   \n",
       "25%     96.265000   96.280000   96.250000   96.270000   168.50000    0.010000   \n",
       "50%     96.300000   96.310000   96.280000   96.300000   626.00000    0.020000   \n",
       "80%     96.376000   96.390000   96.360000   96.370000  1575.60000    0.040000   \n",
       "90%     96.400000   96.410000   96.390000   96.398000  1964.00000    0.050000   \n",
       "95%     96.419000   96.430000   96.409000   96.420000  2276.60000    0.069000   \n",
       "99%     96.435800   96.450000   96.420000   96.435800  3187.44000    0.107400   \n",
       "max     96.440000   96.460000   96.440000   96.450000  3691.00000    0.120000   \n",
       "\n",
       "               oc       hl-oc      hl/vol  5DayRollingStdDev  \n",
       "count  143.000000  143.000000  143.000000         143.000000  \n",
       "mean     0.015944    0.012308    0.000067           0.022115  \n",
       "std      0.017772    0.012875    0.000094           0.014065  \n",
       "min      0.000000    0.000000    0.000000           0.000000  \n",
       "25%      0.000000    0.000000    0.000018           0.013038  \n",
       "50%      0.010000    0.010000    0.000035           0.018708  \n",
       "80%      0.030000    0.020000    0.000097           0.031714  \n",
       "90%      0.040000    0.030000    0.000147           0.041425  \n",
       "95%      0.049000    0.030000    0.000228           0.048287  \n",
       "99%      0.081600    0.055800    0.000432           0.066750  \n",
       "max      0.100000    0.060000    0.000714           0.068702  "
      ]
     },
     "execution_count": 21,
     "metadata": {},
     "output_type": "execute_result"
    }
   ],
   "source": [
    "df.describe(percentiles=[.25, .8, .9, .95, .99])"
   ]
  },
  {
   "cell_type": "markdown",
   "id": "10661bd7-843b-4535-a573-ad5bea5a9fb1",
   "metadata": {},
   "source": [
    "#### Get features"
   ]
  },
  {
   "cell_type": "code",
   "execution_count": 23,
   "id": "166e8ebd-98b5-4607-8d3e-88a40128a3b1",
   "metadata": {},
   "outputs": [
    {
     "data": {
      "text/html": [
       "<div>\n",
       "<style scoped>\n",
       "    .dataframe tbody tr th:only-of-type {\n",
       "        vertical-align: middle;\n",
       "    }\n",
       "\n",
       "    .dataframe tbody tr th {\n",
       "        vertical-align: top;\n",
       "    }\n",
       "\n",
       "    .dataframe thead th {\n",
       "        text-align: right;\n",
       "    }\n",
       "</style>\n",
       "<table border=\"1\" class=\"dataframe\">\n",
       "  <thead>\n",
       "    <tr style=\"text-align: right;\">\n",
       "      <th></th>\n",
       "      <th>hl</th>\n",
       "      <th>oc</th>\n",
       "      <th>hl-oc</th>\n",
       "      <th>hl/vol</th>\n",
       "      <th>Volume</th>\n",
       "      <th>5DayRollingStdDev</th>\n",
       "    </tr>\n",
       "    <tr>\n",
       "      <th>Timestamp (UTC)</th>\n",
       "      <th></th>\n",
       "      <th></th>\n",
       "      <th></th>\n",
       "      <th></th>\n",
       "      <th></th>\n",
       "      <th></th>\n",
       "    </tr>\n",
       "  </thead>\n",
       "  <tbody>\n",
       "    <tr>\n",
       "      <th>2024-02-08 06:08:00</th>\n",
       "      <td>0.04</td>\n",
       "      <td>0.01</td>\n",
       "      <td>0.03</td>\n",
       "      <td>0.000082</td>\n",
       "      <td>489</td>\n",
       "      <td>0.013038</td>\n",
       "    </tr>\n",
       "    <tr>\n",
       "      <th>2024-02-08 14:08:00</th>\n",
       "      <td>0.02</td>\n",
       "      <td>0.02</td>\n",
       "      <td>0.00</td>\n",
       "      <td>0.000127</td>\n",
       "      <td>157</td>\n",
       "      <td>0.019235</td>\n",
       "    </tr>\n",
       "    <tr>\n",
       "      <th>2024-02-08 21:28:00</th>\n",
       "      <td>0.04</td>\n",
       "      <td>0.02</td>\n",
       "      <td>0.02</td>\n",
       "      <td>0.000037</td>\n",
       "      <td>1077</td>\n",
       "      <td>0.022804</td>\n",
       "    </tr>\n",
       "    <tr>\n",
       "      <th>2024-02-09 05:28:00</th>\n",
       "      <td>0.00</td>\n",
       "      <td>0.00</td>\n",
       "      <td>0.00</td>\n",
       "      <td>0.000000</td>\n",
       "      <td>5</td>\n",
       "      <td>0.016733</td>\n",
       "    </tr>\n",
       "    <tr>\n",
       "      <th>2024-02-09 06:08:00</th>\n",
       "      <td>0.04</td>\n",
       "      <td>0.03</td>\n",
       "      <td>0.01</td>\n",
       "      <td>0.000028</td>\n",
       "      <td>1436</td>\n",
       "      <td>0.022804</td>\n",
       "    </tr>\n",
       "  </tbody>\n",
       "</table>\n",
       "</div>"
      ],
      "text/plain": [
       "                       hl    oc  hl-oc    hl/vol  Volume  5DayRollingStdDev\n",
       "Timestamp (UTC)                                                            \n",
       "2024-02-08 06:08:00  0.04  0.01   0.03  0.000082     489           0.013038\n",
       "2024-02-08 14:08:00  0.02  0.02   0.00  0.000127     157           0.019235\n",
       "2024-02-08 21:28:00  0.04  0.02   0.02  0.000037    1077           0.022804\n",
       "2024-02-09 05:28:00  0.00  0.00   0.00  0.000000       5           0.016733\n",
       "2024-02-09 06:08:00  0.04  0.03   0.01  0.000028    1436           0.022804"
      ]
     },
     "execution_count": 23,
     "metadata": {},
     "output_type": "execute_result"
    }
   ],
   "source": [
    "X = df[['hl','oc','hl-oc', 'hl/vol','Volume','5DayRollingStdDev']]\n",
    "X = X.dropna()\n",
    "X.head()"
   ]
  },
  {
   "cell_type": "code",
   "execution_count": 24,
   "id": "d56fa2f0-19d1-425a-a437-d6dbf68e1fa8",
   "metadata": {},
   "outputs": [
    {
     "data": {
      "text/plain": [
       "(143, 6)"
      ]
     },
     "execution_count": 24,
     "metadata": {},
     "output_type": "execute_result"
    }
   ],
   "source": [
    "X.shape"
   ]
  },
  {
   "cell_type": "markdown",
   "id": "267aa278-27e1-4927-ac5d-cf775e9828ea",
   "metadata": {},
   "source": [
    "## 3. Normalize (as some features might dominate due to larger scale)"
   ]
  },
  {
   "cell_type": "code",
   "execution_count": 26,
   "id": "c2fcd6de-521c-4f7a-b070-6330146db366",
   "metadata": {},
   "outputs": [
    {
     "data": {
      "text/html": [
       "<div>\n",
       "<style scoped>\n",
       "    .dataframe tbody tr th:only-of-type {\n",
       "        vertical-align: middle;\n",
       "    }\n",
       "\n",
       "    .dataframe tbody tr th {\n",
       "        vertical-align: top;\n",
       "    }\n",
       "\n",
       "    .dataframe thead th {\n",
       "        text-align: right;\n",
       "    }\n",
       "</style>\n",
       "<table border=\"1\" class=\"dataframe\">\n",
       "  <thead>\n",
       "    <tr style=\"text-align: right;\">\n",
       "      <th></th>\n",
       "      <th>hl</th>\n",
       "      <th>oc</th>\n",
       "      <th>hl-oc</th>\n",
       "      <th>hl/vol</th>\n",
       "      <th>Volume</th>\n",
       "      <th>5DayRollingStdDev</th>\n",
       "    </tr>\n",
       "    <tr>\n",
       "      <th>Timestamp (UTC)</th>\n",
       "      <th></th>\n",
       "      <th></th>\n",
       "      <th></th>\n",
       "      <th></th>\n",
       "      <th></th>\n",
       "      <th></th>\n",
       "    </tr>\n",
       "  </thead>\n",
       "  <tbody>\n",
       "    <tr>\n",
       "      <th>2024-02-08 06:08:00</th>\n",
       "      <td>0.333333</td>\n",
       "      <td>0.1</td>\n",
       "      <td>0.500000</td>\n",
       "      <td>0.114519</td>\n",
       "      <td>0.132249</td>\n",
       "      <td>0.189781</td>\n",
       "    </tr>\n",
       "    <tr>\n",
       "      <th>2024-02-08 14:08:00</th>\n",
       "      <td>0.166667</td>\n",
       "      <td>0.2</td>\n",
       "      <td>0.000000</td>\n",
       "      <td>0.178344</td>\n",
       "      <td>0.042276</td>\n",
       "      <td>0.279982</td>\n",
       "    </tr>\n",
       "    <tr>\n",
       "      <th>2024-02-08 21:28:00</th>\n",
       "      <td>0.333333</td>\n",
       "      <td>0.2</td>\n",
       "      <td>0.333333</td>\n",
       "      <td>0.051996</td>\n",
       "      <td>0.291599</td>\n",
       "      <td>0.331918</td>\n",
       "    </tr>\n",
       "    <tr>\n",
       "      <th>2024-02-09 05:28:00</th>\n",
       "      <td>0.000000</td>\n",
       "      <td>0.0</td>\n",
       "      <td>0.000000</td>\n",
       "      <td>0.000000</td>\n",
       "      <td>0.001084</td>\n",
       "      <td>0.243561</td>\n",
       "    </tr>\n",
       "    <tr>\n",
       "      <th>2024-02-09 06:08:00</th>\n",
       "      <td>0.333333</td>\n",
       "      <td>0.3</td>\n",
       "      <td>0.166667</td>\n",
       "      <td>0.038997</td>\n",
       "      <td>0.388889</td>\n",
       "      <td>0.331918</td>\n",
       "    </tr>\n",
       "  </tbody>\n",
       "</table>\n",
       "</div>"
      ],
      "text/plain": [
       "                           hl   oc     hl-oc    hl/vol    Volume  \\\n",
       "Timestamp (UTC)                                                    \n",
       "2024-02-08 06:08:00  0.333333  0.1  0.500000  0.114519  0.132249   \n",
       "2024-02-08 14:08:00  0.166667  0.2  0.000000  0.178344  0.042276   \n",
       "2024-02-08 21:28:00  0.333333  0.2  0.333333  0.051996  0.291599   \n",
       "2024-02-09 05:28:00  0.000000  0.0  0.000000  0.000000  0.001084   \n",
       "2024-02-09 06:08:00  0.333333  0.3  0.166667  0.038997  0.388889   \n",
       "\n",
       "                     5DayRollingStdDev  \n",
       "Timestamp (UTC)                         \n",
       "2024-02-08 06:08:00           0.189781  \n",
       "2024-02-08 14:08:00           0.279982  \n",
       "2024-02-08 21:28:00           0.331918  \n",
       "2024-02-09 05:28:00           0.243561  \n",
       "2024-02-09 06:08:00           0.331918  "
      ]
     },
     "execution_count": 26,
     "metadata": {},
     "output_type": "execute_result"
    }
   ],
   "source": [
    "from sklearn.preprocessing import MinMaxScaler\n",
    "\n",
    "scaler = MinMaxScaler()\n",
    "\n",
    "# Apply scaling to all columns except the index\n",
    "normalized_data = scaler.fit_transform(X)\n",
    "\n",
    "# Create a new DataFrame with normalized data\n",
    "normalized_df = pd.DataFrame(normalized_data, columns=X.columns, index=X.index)\n",
    "\n",
    "normalized_df.head()\n"
   ]
  },
  {
   "cell_type": "markdown",
   "id": "f00b7a19-bb63-407c-8760-2a254adf48f5",
   "metadata": {},
   "source": [
    "***If a normalized value is 0.33 after Min-Max scaling, it implies that the original value is approximately 33% of the way between the minimum and maximum values of that feature's range.***"
   ]
  },
  {
   "cell_type": "markdown",
   "id": "44dbb64b-ca09-4963-89cb-44140a0bb9ff",
   "metadata": {},
   "source": [
    "## 4. Finding states by clustering"
   ]
  },
  {
   "cell_type": "code",
   "execution_count": 29,
   "id": "a826e226-7663-40fa-b7b7-ae5ab2fe0be2",
   "metadata": {},
   "outputs": [
    {
     "name": "stdout",
     "output_type": "stream",
     "text": [
      "Requirement already satisfied: scikit-learn in d:\\users\\sujay\\lib\\site-packages (1.2.2)\n",
      "Requirement already satisfied: numpy>=1.17.3 in d:\\users\\sujay\\lib\\site-packages (from scikit-learn) (1.26.4)\n",
      "Requirement already satisfied: scipy>=1.3.2 in d:\\users\\sujay\\lib\\site-packages (from scikit-learn) (1.11.4)\n",
      "Requirement already satisfied: joblib>=1.1.1 in d:\\users\\sujay\\lib\\site-packages (from scikit-learn) (1.2.0)\n",
      "Requirement already satisfied: threadpoolctl>=2.0.0 in d:\\users\\sujay\\lib\\site-packages (from scikit-learn) (2.2.0)\n",
      "Note: you may need to restart the kernel to use updated packages.\n"
     ]
    }
   ],
   "source": [
    "pip install scikit-learn"
   ]
  },
  {
   "cell_type": "code",
   "execution_count": 30,
   "id": "264f83f6-0e0c-4d1c-94e1-318c69af2ed4",
   "metadata": {},
   "outputs": [],
   "source": [
    "from sklearn.cluster import KMeans"
   ]
  },
  {
   "cell_type": "code",
   "execution_count": 31,
   "id": "4dd9b37a-68da-4aa7-a142-0b76fdb5f925",
   "metadata": {},
   "outputs": [],
   "source": [
    "import warnings\n",
    "warnings.filterwarnings('ignore')\n",
    "\n",
    "wcss = []\n",
    "\n",
    "for i in range(1,15):\n",
    "    kmeans=KMeans(n_clusters=i, init='k-means++', random_state=1)\n",
    "    kmeans.fit(X)\n",
    "    wcss.append(kmeans.inertia_)"
   ]
  },
  {
   "cell_type": "code",
   "execution_count": 32,
   "id": "c5077c0b-5e96-4270-9f5a-7f78033dd70e",
   "metadata": {},
   "outputs": [],
   "source": [
    "import seaborn as sns\n",
    "import matplotlib.pyplot as plt"
   ]
  },
  {
   "cell_type": "code",
   "execution_count": 33,
   "id": "ab416482-da16-4c3c-96e1-fd4744122f6f",
   "metadata": {},
   "outputs": [
    {
     "data": {
      "image/png": "[encoded data removed]",
      "text/plain": [
       "<Figure size 640x480 with 1 Axes>"
      ]
     },
     "metadata": {},
     "output_type": "display_data"
    }
   ],
   "source": [
    "sns.set()\n",
    "plt.plot(range(1,15),wcss)\n",
    "plt.title('Elbow-point')\n",
    "plt.xlabel('no. of clusters')\n",
    "plt.ylabel('WCSS')\n",
    "plt.show()"
   ]
  },
  {
   "cell_type": "markdown",
   "id": "e5e59b94-c3f0-4128-9242-7bb72c625471",
   "metadata": {},
   "source": [
    "**Selecting k=4**"
   ]
  },
  {
   "cell_type": "markdown",
   "id": "80d72be5-064a-4ac8-acde-4958d761dce7",
   "metadata": {},
   "source": [
    "**Fit the model**"
   ]
  },
  {
   "cell_type": "code",
   "execution_count": 36,
   "id": "58a36aed-d07a-4289-aed4-1cf1890963c2",
   "metadata": {},
   "outputs": [],
   "source": [
    "#Building the model with 4 clusters\n",
    "km_model = KMeans(n_clusters=4, init = \"random\", n_init = 10, verbose=0)"
   ]
  },
  {
   "cell_type": "markdown",
   "id": "8687b7c4-33a3-4320-a49d-e80f87fa08e8",
   "metadata": {},
   "source": [
    "**Predict the clusters**"
   ]
  },
  {
   "cell_type": "code",
   "execution_count": 38,
   "id": "0aac0baf-1973-45b9-83d8-d176a6a84b19",
   "metadata": {},
   "outputs": [
    {
     "data": {
      "text/plain": [
       "array([0, 0, 3, 0, 2, 0, 3, 0, 0, 2, 0, 3, 0, 2, 0, 2, 3, 2, 0, 3, 3, 3,\n",
       "       0, 0, 0, 0, 0, 0, 0, 0, 0, 3, 0, 0, 2, 0, 0, 0, 3, 3, 0, 2, 0, 3,\n",
       "       0, 3, 0, 3, 2, 2, 0, 2, 3, 0, 3, 0, 3, 3, 3, 0, 0, 0, 3, 0, 3, 0,\n",
       "       2, 0, 2, 3, 2, 0, 3, 0, 3, 0, 3, 0, 2, 0, 0, 0, 2, 0, 3, 3, 3, 0,\n",
       "       0, 0, 3, 0, 2, 3, 1, 0, 2, 0, 2, 0, 2, 0, 3, 3, 3, 0, 2, 2, 2, 0,\n",
       "       3, 0, 3, 0, 2, 0, 3, 0, 1, 0, 2, 3, 2, 0, 2, 3, 1, 0, 0, 3, 0, 2,\n",
       "       3, 1, 0, 2, 2, 3, 0, 3, 3, 2, 0])"
      ]
     },
     "execution_count": 38,
     "metadata": {},
     "output_type": "execute_result"
    }
   ],
   "source": [
    "clusters = km_model.fit_predict(X)\n",
    "clusters"
   ]
  },
  {
   "cell_type": "code",
   "execution_count": 39,
   "id": "df410349-337d-41d3-b5ea-50d4dd06cc81",
   "metadata": {},
   "outputs": [],
   "source": [
    "X['Cluster'] = clusters"
   ]
  },
  {
   "cell_type": "code",
   "execution_count": 40,
   "id": "d4297242-6f95-41aa-8c4b-c2307a1ac9df",
   "metadata": {},
   "outputs": [
    {
     "data": {
      "text/html": [
       "<div>\n",
       "<style scoped>\n",
       "    .dataframe tbody tr th:only-of-type {\n",
       "        vertical-align: middle;\n",
       "    }\n",
       "\n",
       "    .dataframe tbody tr th {\n",
       "        vertical-align: top;\n",
       "    }\n",
       "\n",
       "    .dataframe thead th {\n",
       "        text-align: right;\n",
       "    }\n",
       "</style>\n",
       "<table border=\"1\" class=\"dataframe\">\n",
       "  <thead>\n",
       "    <tr style=\"text-align: right;\">\n",
       "      <th></th>\n",
       "      <th>hl</th>\n",
       "      <th>oc</th>\n",
       "      <th>hl-oc</th>\n",
       "      <th>hl/vol</th>\n",
       "      <th>Volume</th>\n",
       "      <th>5DayRollingStdDev</th>\n",
       "      <th>Cluster</th>\n",
       "    </tr>\n",
       "    <tr>\n",
       "      <th>Timestamp (UTC)</th>\n",
       "      <th></th>\n",
       "      <th></th>\n",
       "      <th></th>\n",
       "      <th></th>\n",
       "      <th></th>\n",
       "      <th></th>\n",
       "      <th></th>\n",
       "    </tr>\n",
       "  </thead>\n",
       "  <tbody>\n",
       "    <tr>\n",
       "      <th>2024-02-08 06:08:00</th>\n",
       "      <td>0.04</td>\n",
       "      <td>0.01</td>\n",
       "      <td>0.03</td>\n",
       "      <td>0.000082</td>\n",
       "      <td>489</td>\n",
       "      <td>0.013038</td>\n",
       "      <td>0</td>\n",
       "    </tr>\n",
       "    <tr>\n",
       "      <th>2024-02-08 14:08:00</th>\n",
       "      <td>0.02</td>\n",
       "      <td>0.02</td>\n",
       "      <td>0.00</td>\n",
       "      <td>0.000127</td>\n",
       "      <td>157</td>\n",
       "      <td>0.019235</td>\n",
       "      <td>0</td>\n",
       "    </tr>\n",
       "    <tr>\n",
       "      <th>2024-02-08 21:28:00</th>\n",
       "      <td>0.04</td>\n",
       "      <td>0.02</td>\n",
       "      <td>0.02</td>\n",
       "      <td>0.000037</td>\n",
       "      <td>1077</td>\n",
       "      <td>0.022804</td>\n",
       "      <td>3</td>\n",
       "    </tr>\n",
       "    <tr>\n",
       "      <th>2024-02-09 05:28:00</th>\n",
       "      <td>0.00</td>\n",
       "      <td>0.00</td>\n",
       "      <td>0.00</td>\n",
       "      <td>0.000000</td>\n",
       "      <td>5</td>\n",
       "      <td>0.016733</td>\n",
       "      <td>0</td>\n",
       "    </tr>\n",
       "    <tr>\n",
       "      <th>2024-02-09 06:08:00</th>\n",
       "      <td>0.04</td>\n",
       "      <td>0.03</td>\n",
       "      <td>0.01</td>\n",
       "      <td>0.000028</td>\n",
       "      <td>1436</td>\n",
       "      <td>0.022804</td>\n",
       "      <td>2</td>\n",
       "    </tr>\n",
       "  </tbody>\n",
       "</table>\n",
       "</div>"
      ],
      "text/plain": [
       "                       hl    oc  hl-oc    hl/vol  Volume  5DayRollingStdDev  \\\n",
       "Timestamp (UTC)                                                               \n",
       "2024-02-08 06:08:00  0.04  0.01   0.03  0.000082     489           0.013038   \n",
       "2024-02-08 14:08:00  0.02  0.02   0.00  0.000127     157           0.019235   \n",
       "2024-02-08 21:28:00  0.04  0.02   0.02  0.000037    1077           0.022804   \n",
       "2024-02-09 05:28:00  0.00  0.00   0.00  0.000000       5           0.016733   \n",
       "2024-02-09 06:08:00  0.04  0.03   0.01  0.000028    1436           0.022804   \n",
       "\n",
       "                     Cluster  \n",
       "Timestamp (UTC)               \n",
       "2024-02-08 06:08:00        0  \n",
       "2024-02-08 14:08:00        0  \n",
       "2024-02-08 21:28:00        3  \n",
       "2024-02-09 05:28:00        0  \n",
       "2024-02-09 06:08:00        2  "
      ]
     },
     "execution_count": 40,
     "metadata": {},
     "output_type": "execute_result"
    }
   ],
   "source": [
    "X.head()"
   ]
  },
  {
   "cell_type": "code",
   "execution_count": 41,
   "id": "9e4104ff-6e0f-4d78-976a-3f2cdaa1b462",
   "metadata": {},
   "outputs": [
    {
     "data": {
      "text/plain": [
       "Cluster\n",
       "0    67\n",
       "1     4\n",
       "2    30\n",
       "3    42\n",
       "dtype: int64"
      ]
     },
     "execution_count": 41,
     "metadata": {},
     "output_type": "execute_result"
    }
   ],
   "source": [
    "X.groupby(['Cluster']).size()"
   ]
  },
  {
   "cell_type": "markdown",
   "id": "cc8aa94c-7f18-4235-b2b2-b7796ae58ec7",
   "metadata": {},
   "source": [
    "#### Cluster analysis"
   ]
  },
  {
   "cell_type": "code",
   "execution_count": 43,
   "id": "1317ef1d-3124-45be-a84c-c6f3ed36cb82",
   "metadata": {},
   "outputs": [
    {
     "data": {
      "text/html": [
       "<div>\n",
       "<style scoped>\n",
       "    .dataframe tbody tr th:only-of-type {\n",
       "        vertical-align: middle;\n",
       "    }\n",
       "\n",
       "    .dataframe tbody tr th {\n",
       "        vertical-align: top;\n",
       "    }\n",
       "\n",
       "    .dataframe thead th {\n",
       "        text-align: right;\n",
       "    }\n",
       "</style>\n",
       "<table border=\"1\" class=\"dataframe\">\n",
       "  <thead>\n",
       "    <tr style=\"text-align: right;\">\n",
       "      <th></th>\n",
       "      <th>hl</th>\n",
       "      <th>oc</th>\n",
       "      <th>hl-oc</th>\n",
       "      <th>hl/vol</th>\n",
       "      <th>Volume</th>\n",
       "      <th>5DayRollingStdDev</th>\n",
       "      <th>Cluster</th>\n",
       "    </tr>\n",
       "  </thead>\n",
       "  <tbody>\n",
       "    <tr>\n",
       "      <th>count</th>\n",
       "      <td>67.000000</td>\n",
       "      <td>67.000000</td>\n",
       "      <td>67.000000</td>\n",
       "      <td>67.000000</td>\n",
       "      <td>67.000000</td>\n",
       "      <td>67.000000</td>\n",
       "      <td>67.0</td>\n",
       "    </tr>\n",
       "    <tr>\n",
       "      <th>mean</th>\n",
       "      <td>0.014627</td>\n",
       "      <td>0.008657</td>\n",
       "      <td>0.005970</td>\n",
       "      <td>0.000106</td>\n",
       "      <td>200.208955</td>\n",
       "      <td>0.021514</td>\n",
       "      <td>0.0</td>\n",
       "    </tr>\n",
       "    <tr>\n",
       "      <th>std</th>\n",
       "      <td>0.013408</td>\n",
       "      <td>0.009518</td>\n",
       "      <td>0.008359</td>\n",
       "      <td>0.000126</td>\n",
       "      <td>179.844338</td>\n",
       "      <td>0.013596</td>\n",
       "      <td>0.0</td>\n",
       "    </tr>\n",
       "    <tr>\n",
       "      <th>min</th>\n",
       "      <td>0.000000</td>\n",
       "      <td>0.000000</td>\n",
       "      <td>0.000000</td>\n",
       "      <td>0.000000</td>\n",
       "      <td>1.000000</td>\n",
       "      <td>0.000000</td>\n",
       "      <td>0.0</td>\n",
       "    </tr>\n",
       "    <tr>\n",
       "      <th>25%</th>\n",
       "      <td>0.010000</td>\n",
       "      <td>0.000000</td>\n",
       "      <td>0.000000</td>\n",
       "      <td>0.000020</td>\n",
       "      <td>44.500000</td>\n",
       "      <td>0.012643</td>\n",
       "      <td>0.0</td>\n",
       "    </tr>\n",
       "    <tr>\n",
       "      <th>50%</th>\n",
       "      <td>0.010000</td>\n",
       "      <td>0.010000</td>\n",
       "      <td>0.000000</td>\n",
       "      <td>0.000078</td>\n",
       "      <td>146.000000</td>\n",
       "      <td>0.018708</td>\n",
       "      <td>0.0</td>\n",
       "    </tr>\n",
       "    <tr>\n",
       "      <th>75%</th>\n",
       "      <td>0.020000</td>\n",
       "      <td>0.010000</td>\n",
       "      <td>0.010000</td>\n",
       "      <td>0.000136</td>\n",
       "      <td>304.500000</td>\n",
       "      <td>0.027657</td>\n",
       "      <td>0.0</td>\n",
       "    </tr>\n",
       "    <tr>\n",
       "      <th>max</th>\n",
       "      <td>0.060000</td>\n",
       "      <td>0.040000</td>\n",
       "      <td>0.030000</td>\n",
       "      <td>0.000714</td>\n",
       "      <td>536.000000</td>\n",
       "      <td>0.068702</td>\n",
       "      <td>0.0</td>\n",
       "    </tr>\n",
       "  </tbody>\n",
       "</table>\n",
       "</div>"
      ],
      "text/plain": [
       "              hl         oc      hl-oc     hl/vol      Volume  \\\n",
       "count  67.000000  67.000000  67.000000  67.000000   67.000000   \n",
       "mean    0.014627   0.008657   0.005970   0.000106  200.208955   \n",
       "std     0.013408   0.009518   0.008359   0.000126  179.844338   \n",
       "min     0.000000   0.000000   0.000000   0.000000    1.000000   \n",
       "25%     0.010000   0.000000   0.000000   0.000020   44.500000   \n",
       "50%     0.010000   0.010000   0.000000   0.000078  146.000000   \n",
       "75%     0.020000   0.010000   0.010000   0.000136  304.500000   \n",
       "max     0.060000   0.040000   0.030000   0.000714  536.000000   \n",
       "\n",
       "       5DayRollingStdDev  Cluster  \n",
       "count          67.000000     67.0  \n",
       "mean            0.021514      0.0  \n",
       "std             0.013596      0.0  \n",
       "min             0.000000      0.0  \n",
       "25%             0.012643      0.0  \n",
       "50%             0.018708      0.0  \n",
       "75%             0.027657      0.0  \n",
       "max             0.068702      0.0  "
      ]
     },
     "execution_count": 43,
     "metadata": {},
     "output_type": "execute_result"
    }
   ],
   "source": [
    "# store clusters to analyze\n",
    "C2=X.loc[(X['Cluster']==0)] #use 1,2,3.. to view the clusters\n",
    "\n",
    "C2.describe()"
   ]
  },
  {
   "cell_type": "markdown",
   "id": "2c9c6060-4cd7-4515-81ab-6ff3864a2db4",
   "metadata": {},
   "source": [
    "**Saving files**"
   ]
  },
  {
   "cell_type": "code",
   "execution_count": 45,
   "id": "70536fbb-02ea-468a-b84b-12276d74864d",
   "metadata": {},
   "outputs": [
    {
     "name": "stdout",
     "output_type": "stream",
     "text": [
      "Requirement already satisfied: openpyxl in d:\\users\\sujay\\lib\\site-packages (3.0.10)\n",
      "Requirement already satisfied: et_xmlfile in d:\\users\\sujay\\lib\\site-packages (from openpyxl) (1.1.0)\n",
      "Note: you may need to restart the kernel to use updated packages.\n"
     ]
    }
   ],
   "source": [
    "pip install openpyxl"
   ]
  },
  {
   "cell_type": "code",
   "execution_count": 46,
   "id": "e5a61203-d352-42a5-aaf4-24bcd7f533b1",
   "metadata": {},
   "outputs": [],
   "source": [
    "C2.describe().to_excel('cluster0.xlsx', index=True) # for cluster analysis"
   ]
  },
  {
   "cell_type": "code",
   "execution_count": 47,
   "id": "4d928f3f-9781-4087-bf53-41650cb43392",
   "metadata": {},
   "outputs": [],
   "source": [
    "X.to_excel('IR Dec25_Cluster_Analysis.xlsx', index=True) # for visual analysis"
   ]
  },
  {
   "cell_type": "code",
   "execution_count": null,
   "id": "a17b5722-edb8-4d85-b544-b0a7243e8d6e",
   "metadata": {},
   "outputs": [],
   "source": []
  }
 ],
 "metadata": {
  "kernelspec": {
   "display_name": "Python 3 (ipykernel)",
   "language": "python",
   "name": "python3"
  },
  "language_info": {
   "codemirror_mode": {
    "name": "ipython",
    "version": 3
   },
   "file_extension": ".py",
   "mimetype": "text/x-python",
   "name": "python",
   "nbconvert_exporter": "python",
   "pygments_lexer": "ipython3",
   "version": "3.11.7"
  },
  "widgets": {
   "application/vnd.jupyter.widget-state+json": {
    "state": {},
    "version_major": 2,
    "version_minor": 0
   }
  }
 },
 "nbformat": 4,
 "nbformat_minor": 5
}
