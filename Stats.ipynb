{
 "cells": [
  {
   "cell_type": "code",
   "execution_count": 88,
   "id": "c1c5a147-63b9-4028-8b6b-e23d1f5dd0a5",
   "metadata": {},
   "outputs": [],
   "source": [
    "import pandas as pd"
   ]
  },
  {
   "cell_type": "code",
   "execution_count": 157,
   "id": "bcb5b6ab-7756-45b6-b0c9-72bc1e8217d8",
   "metadata": {},
   "outputs": [],
   "source": [
    "df = pd.read_csv(r'XT Dec24_15min.csv')"
   ]
  },
  {
   "cell_type": "code",
   "execution_count": 159,
   "id": "8581c503-b215-4fd2-9492-97eae943103c",
   "metadata": {},
   "outputs": [
    {
     "data": {
      "text/html": [
       "<div>\n",
       "<style scoped>\n",
       "    .dataframe tbody tr th:only-of-type {\n",
       "        vertical-align: middle;\n",
       "    }\n",
       "\n",
       "    .dataframe tbody tr th {\n",
       "        vertical-align: top;\n",
       "    }\n",
       "\n",
       "    .dataframe thead th {\n",
       "        text-align: right;\n",
       "    }\n",
       "</style>\n",
       "<table border=\"1\" class=\"dataframe\">\n",
       "  <thead>\n",
       "    <tr style=\"text-align: right;\">\n",
       "      <th></th>\n",
       "      <th>Timestamp (UTC)</th>\n",
       "      <th>Open</th>\n",
       "      <th>High</th>\n",
       "      <th>Low</th>\n",
       "      <th>Close</th>\n",
       "      <th>XT Dec24: Volume</th>\n",
       "    </tr>\n",
       "  </thead>\n",
       "  <tbody>\n",
       "    <tr>\n",
       "      <th>0</th>\n",
       "      <td>2024-09-23 14:12:00</td>\n",
       "      <td>95.990</td>\n",
       "      <td>96.000</td>\n",
       "      <td>95.985</td>\n",
       "      <td>96.000</td>\n",
       "      <td>565</td>\n",
       "    </tr>\n",
       "    <tr>\n",
       "      <th>1</th>\n",
       "      <td>2024-09-23 14:27:00</td>\n",
       "      <td>96.000</td>\n",
       "      <td>96.010</td>\n",
       "      <td>95.995</td>\n",
       "      <td>96.010</td>\n",
       "      <td>843</td>\n",
       "    </tr>\n",
       "    <tr>\n",
       "      <th>2</th>\n",
       "      <td>2024-09-23 14:42:00</td>\n",
       "      <td>96.010</td>\n",
       "      <td>96.015</td>\n",
       "      <td>96.005</td>\n",
       "      <td>96.010</td>\n",
       "      <td>1446</td>\n",
       "    </tr>\n",
       "    <tr>\n",
       "      <th>3</th>\n",
       "      <td>2024-09-23 14:57:00</td>\n",
       "      <td>96.010</td>\n",
       "      <td>96.020</td>\n",
       "      <td>96.005</td>\n",
       "      <td>96.005</td>\n",
       "      <td>672</td>\n",
       "    </tr>\n",
       "    <tr>\n",
       "      <th>4</th>\n",
       "      <td>2024-09-23 15:12:00</td>\n",
       "      <td>96.005</td>\n",
       "      <td>96.015</td>\n",
       "      <td>96.005</td>\n",
       "      <td>96.010</td>\n",
       "      <td>395</td>\n",
       "    </tr>\n",
       "  </tbody>\n",
       "</table>\n",
       "</div>"
      ],
      "text/plain": [
       "       Timestamp (UTC)    Open    High     Low   Close  XT Dec24: Volume\n",
       "0  2024-09-23 14:12:00  95.990  96.000  95.985  96.000               565\n",
       "1  2024-09-23 14:27:00  96.000  96.010  95.995  96.010               843\n",
       "2  2024-09-23 14:42:00  96.010  96.015  96.005  96.010              1446\n",
       "3  2024-09-23 14:57:00  96.010  96.020  96.005  96.005               672\n",
       "4  2024-09-23 15:12:00  96.005  96.015  96.005  96.010               395"
      ]
     },
     "execution_count": 159,
     "metadata": {},
     "output_type": "execute_result"
    }
   ],
   "source": [
    "df.head()"
   ]
  },
  {
   "cell_type": "code",
   "execution_count": 217,
   "id": "eabcd343-b834-42f1-8c49-241567d608ac",
   "metadata": {},
   "outputs": [
    {
     "data": {
      "text/plain": [
       "(851, 11)"
      ]
     },
     "execution_count": 217,
     "metadata": {},
     "output_type": "execute_result"
    }
   ],
   "source": [
    "df.shape"
   ]
  },
  {
   "cell_type": "markdown",
   "id": "b4aab255-fb5e-44cb-8483-b951143c72f4",
   "metadata": {},
   "source": [
    "#### Preparing data"
   ]
  },
  {
   "cell_type": "markdown",
   "id": "3ea60385-101a-4995-9942-6224460f8657",
   "metadata": {},
   "source": [
    "Enter __volume column name__:"
   ]
  },
  {
   "cell_type": "code",
   "execution_count": 163,
   "id": "7e974fde-15f4-48e2-a123-db7ba5756122",
   "metadata": {},
   "outputs": [],
   "source": [
    "df.rename(columns = {'XT Dec24: Volume' : 'Volume'}, inplace = True)"
   ]
  },
  {
   "cell_type": "code",
   "execution_count": 165,
   "id": "49d6bfe3-9384-4c21-9481-bc8f05caaa4a",
   "metadata": {},
   "outputs": [
    {
     "data": {
      "text/html": [
       "<div>\n",
       "<style scoped>\n",
       "    .dataframe tbody tr th:only-of-type {\n",
       "        vertical-align: middle;\n",
       "    }\n",
       "\n",
       "    .dataframe tbody tr th {\n",
       "        vertical-align: top;\n",
       "    }\n",
       "\n",
       "    .dataframe thead th {\n",
       "        text-align: right;\n",
       "    }\n",
       "</style>\n",
       "<table border=\"1\" class=\"dataframe\">\n",
       "  <thead>\n",
       "    <tr style=\"text-align: right;\">\n",
       "      <th></th>\n",
       "      <th>Timestamp (UTC)</th>\n",
       "      <th>Open</th>\n",
       "      <th>High</th>\n",
       "      <th>Low</th>\n",
       "      <th>Close</th>\n",
       "      <th>Volume</th>\n",
       "    </tr>\n",
       "  </thead>\n",
       "  <tbody>\n",
       "    <tr>\n",
       "      <th>0</th>\n",
       "      <td>2024-09-23 14:12:00</td>\n",
       "      <td>95.99</td>\n",
       "      <td>96.00</td>\n",
       "      <td>95.985</td>\n",
       "      <td>96.00</td>\n",
       "      <td>565</td>\n",
       "    </tr>\n",
       "    <tr>\n",
       "      <th>1</th>\n",
       "      <td>2024-09-23 14:27:00</td>\n",
       "      <td>96.00</td>\n",
       "      <td>96.01</td>\n",
       "      <td>95.995</td>\n",
       "      <td>96.01</td>\n",
       "      <td>843</td>\n",
       "    </tr>\n",
       "  </tbody>\n",
       "</table>\n",
       "</div>"
      ],
      "text/plain": [
       "       Timestamp (UTC)   Open   High     Low  Close  Volume\n",
       "0  2024-09-23 14:12:00  95.99  96.00  95.985  96.00     565\n",
       "1  2024-09-23 14:27:00  96.00  96.01  95.995  96.01     843"
      ]
     },
     "execution_count": 165,
     "metadata": {},
     "output_type": "execute_result"
    }
   ],
   "source": [
    "df.head(2)"
   ]
  },
  {
   "cell_type": "code",
   "execution_count": 167,
   "id": "1239e099-7a66-46ed-bda1-dee66a82b784",
   "metadata": {},
   "outputs": [],
   "source": [
    "df['H-L'] = df['High'] - df['Low']\n",
    "df['O-C'] = df['Open'] - df['Close']"
   ]
  },
  {
   "cell_type": "markdown",
   "id": "4337e2df-c38a-437b-90a4-381289a4b4f9",
   "metadata": {},
   "source": [
    "#### Calculating MA"
   ]
  },
  {
   "cell_type": "markdown",
   "id": "34767693-efff-44d0-96dd-e0b736b7aa9e",
   "metadata": {},
   "source": [
    "rolling() mean()"
   ]
  },
  {
   "cell_type": "code",
   "execution_count": 170,
   "id": "eb064a43-c653-4614-9d33-99b265686cfa",
   "metadata": {},
   "outputs": [],
   "source": [
    "# Calculate 8-period and 16-period moving averages on 'Close'\n",
    "df['MA_S'] = df['Close'].rolling(window=8).mean()\n",
    "df['MA_L'] = df['Close'].rolling(window=24).mean()\n",
    "df['MA_L-MA_S'] = df['MA_L'] - df['MA_S']"
   ]
  },
  {
   "cell_type": "markdown",
   "id": "d4e57c3f-39fe-406b-a9e7-dbab7069ba41",
   "metadata": {},
   "source": [
    "#### Statistical analysis"
   ]
  },
  {
   "cell_type": "code",
   "execution_count": 173,
   "id": "fafc8103-d6d9-4814-af92-5dbd794cb224",
   "metadata": {},
   "outputs": [
    {
     "data": {
      "text/html": [
       "<div>\n",
       "<style scoped>\n",
       "    .dataframe tbody tr th:only-of-type {\n",
       "        vertical-align: middle;\n",
       "    }\n",
       "\n",
       "    .dataframe tbody tr th {\n",
       "        vertical-align: top;\n",
       "    }\n",
       "\n",
       "    .dataframe thead th {\n",
       "        text-align: right;\n",
       "    }\n",
       "</style>\n",
       "<table border=\"1\" class=\"dataframe\">\n",
       "  <thead>\n",
       "    <tr style=\"text-align: right;\">\n",
       "      <th></th>\n",
       "      <th>Open</th>\n",
       "      <th>High</th>\n",
       "      <th>Low</th>\n",
       "      <th>Close</th>\n",
       "      <th>Volume</th>\n",
       "      <th>H-L</th>\n",
       "      <th>O-C</th>\n",
       "      <th>MA_S</th>\n",
       "      <th>MA_L</th>\n",
       "      <th>MA_L-MA_S</th>\n",
       "    </tr>\n",
       "  </thead>\n",
       "  <tbody>\n",
       "    <tr>\n",
       "      <th>count</th>\n",
       "      <td>851.000000</td>\n",
       "      <td>851.000000</td>\n",
       "      <td>851.000000</td>\n",
       "      <td>851.000000</td>\n",
       "      <td>851.000000</td>\n",
       "      <td>851.000000</td>\n",
       "      <td>851.000000</td>\n",
       "      <td>844.000000</td>\n",
       "      <td>828.000000</td>\n",
       "      <td>828.000000</td>\n",
       "    </tr>\n",
       "    <tr>\n",
       "      <th>mean</th>\n",
       "      <td>96.004906</td>\n",
       "      <td>96.009471</td>\n",
       "      <td>96.000076</td>\n",
       "      <td>96.004694</td>\n",
       "      <td>1555.443008</td>\n",
       "      <td>0.009395</td>\n",
       "      <td>0.000212</td>\n",
       "      <td>96.005593</td>\n",
       "      <td>96.007392</td>\n",
       "      <td>0.002352</td>\n",
       "    </tr>\n",
       "    <tr>\n",
       "      <th>std</th>\n",
       "      <td>0.067624</td>\n",
       "      <td>0.067800</td>\n",
       "      <td>0.067743</td>\n",
       "      <td>0.067921</td>\n",
       "      <td>1777.104845</td>\n",
       "      <td>0.005310</td>\n",
       "      <td>0.006316</td>\n",
       "      <td>0.066334</td>\n",
       "      <td>0.062921</td>\n",
       "      <td>0.009424</td>\n",
       "    </tr>\n",
       "    <tr>\n",
       "      <th>min</th>\n",
       "      <td>95.770000</td>\n",
       "      <td>95.785000</td>\n",
       "      <td>95.770000</td>\n",
       "      <td>95.770000</td>\n",
       "      <td>1.000000</td>\n",
       "      <td>0.000000</td>\n",
       "      <td>-0.025000</td>\n",
       "      <td>95.786875</td>\n",
       "      <td>95.790625</td>\n",
       "      <td>-0.027500</td>\n",
       "    </tr>\n",
       "    <tr>\n",
       "      <th>10%</th>\n",
       "      <td>95.920000</td>\n",
       "      <td>95.925000</td>\n",
       "      <td>95.915000</td>\n",
       "      <td>95.920000</td>\n",
       "      <td>109.000000</td>\n",
       "      <td>0.005000</td>\n",
       "      <td>-0.005000</td>\n",
       "      <td>95.922687</td>\n",
       "      <td>95.926625</td>\n",
       "      <td>-0.009021</td>\n",
       "    </tr>\n",
       "    <tr>\n",
       "      <th>25%</th>\n",
       "      <td>95.990000</td>\n",
       "      <td>95.995000</td>\n",
       "      <td>95.985000</td>\n",
       "      <td>95.990000</td>\n",
       "      <td>395.500000</td>\n",
       "      <td>0.005000</td>\n",
       "      <td>-0.005000</td>\n",
       "      <td>95.991875</td>\n",
       "      <td>96.000156</td>\n",
       "      <td>-0.003125</td>\n",
       "    </tr>\n",
       "    <tr>\n",
       "      <th>50%</th>\n",
       "      <td>96.025000</td>\n",
       "      <td>96.030000</td>\n",
       "      <td>96.020000</td>\n",
       "      <td>96.025000</td>\n",
       "      <td>1137.000000</td>\n",
       "      <td>0.010000</td>\n",
       "      <td>0.000000</td>\n",
       "      <td>96.027187</td>\n",
       "      <td>96.028750</td>\n",
       "      <td>0.003125</td>\n",
       "    </tr>\n",
       "    <tr>\n",
       "      <th>75%</th>\n",
       "      <td>96.045000</td>\n",
       "      <td>96.050000</td>\n",
       "      <td>96.040000</td>\n",
       "      <td>96.045000</td>\n",
       "      <td>2231.500000</td>\n",
       "      <td>0.010000</td>\n",
       "      <td>0.005000</td>\n",
       "      <td>96.042500</td>\n",
       "      <td>96.041875</td>\n",
       "      <td>0.008542</td>\n",
       "    </tr>\n",
       "    <tr>\n",
       "      <th>90%</th>\n",
       "      <td>96.060000</td>\n",
       "      <td>96.065000</td>\n",
       "      <td>96.055000</td>\n",
       "      <td>96.060000</td>\n",
       "      <td>3456.000000</td>\n",
       "      <td>0.015000</td>\n",
       "      <td>0.010000</td>\n",
       "      <td>96.060000</td>\n",
       "      <td>96.057292</td>\n",
       "      <td>0.012708</td>\n",
       "    </tr>\n",
       "    <tr>\n",
       "      <th>max</th>\n",
       "      <td>96.110000</td>\n",
       "      <td>96.110000</td>\n",
       "      <td>96.100000</td>\n",
       "      <td>96.100000</td>\n",
       "      <td>30306.000000</td>\n",
       "      <td>0.065000</td>\n",
       "      <td>0.035000</td>\n",
       "      <td>96.098750</td>\n",
       "      <td>96.095833</td>\n",
       "      <td>0.037917</td>\n",
       "    </tr>\n",
       "  </tbody>\n",
       "</table>\n",
       "</div>"
      ],
      "text/plain": [
       "             Open        High         Low       Close        Volume  \\\n",
       "count  851.000000  851.000000  851.000000  851.000000    851.000000   \n",
       "mean    96.004906   96.009471   96.000076   96.004694   1555.443008   \n",
       "std      0.067624    0.067800    0.067743    0.067921   1777.104845   \n",
       "min     95.770000   95.785000   95.770000   95.770000      1.000000   \n",
       "10%     95.920000   95.925000   95.915000   95.920000    109.000000   \n",
       "25%     95.990000   95.995000   95.985000   95.990000    395.500000   \n",
       "50%     96.025000   96.030000   96.020000   96.025000   1137.000000   \n",
       "75%     96.045000   96.050000   96.040000   96.045000   2231.500000   \n",
       "90%     96.060000   96.065000   96.055000   96.060000   3456.000000   \n",
       "max     96.110000   96.110000   96.100000   96.100000  30306.000000   \n",
       "\n",
       "              H-L         O-C        MA_S        MA_L   MA_L-MA_S  \n",
       "count  851.000000  851.000000  844.000000  828.000000  828.000000  \n",
       "mean     0.009395    0.000212   96.005593   96.007392    0.002352  \n",
       "std      0.005310    0.006316    0.066334    0.062921    0.009424  \n",
       "min      0.000000   -0.025000   95.786875   95.790625   -0.027500  \n",
       "10%      0.005000   -0.005000   95.922687   95.926625   -0.009021  \n",
       "25%      0.005000   -0.005000   95.991875   96.000156   -0.003125  \n",
       "50%      0.010000    0.000000   96.027187   96.028750    0.003125  \n",
       "75%      0.010000    0.005000   96.042500   96.041875    0.008542  \n",
       "90%      0.015000    0.010000   96.060000   96.057292    0.012708  \n",
       "max      0.065000    0.035000   96.098750   96.095833    0.037917  "
      ]
     },
     "execution_count": 173,
     "metadata": {},
     "output_type": "execute_result"
    }
   ],
   "source": [
    "df.describe(percentiles = [0.1,0.25,0.5,0.75,0.9])"
   ]
  },
  {
   "cell_type": "markdown",
   "id": "5b2dba4a-baa8-41cd-9078-009a1e418c2d",
   "metadata": {},
   "source": [
    "Enter __tick size__:"
   ]
  },
  {
   "cell_type": "code",
   "execution_count": 238,
   "id": "0217d5a6-7e0c-4f86-acf0-6eec2a6bb7b0",
   "metadata": {},
   "outputs": [],
   "source": [
    "tick_size = 0.005"
   ]
  },
  {
   "cell_type": "code",
   "execution_count": 243,
   "id": "cb3c9757-d0cb-42fe-87ad-55db6d6f960a",
   "metadata": {},
   "outputs": [
    {
     "name": "stdout",
     "output_type": "stream",
     "text": [
      "[0.    0.005 0.01  0.015 0.02  0.025 0.03  0.035 0.04  0.045 0.05  0.055\n",
      " 0.06  0.065]\n"
     ]
    },
    {
     "data": {
      "text/plain": [
       "Text(0.5, 1.0, 'Histogram with Tick Size of 0.005')"
      ]
     },
     "execution_count": 243,
     "metadata": {},
     "output_type": "execute_result"
    },
    {
     "data": {
      "image/png": "[encoded data removed]",
      "text/plain": [
       "<Figure size 640x480 with 1 Axes>"
      ]
     },
     "metadata": {},
     "output_type": "display_data"
    }
   ],
   "source": [
    "import numpy as np\n",
    "# Plot a histogram of movement\n",
    "#df['H-L'].hist(bins=8, rwidth=0.8)\n",
    "\n",
    "# Create bins from the minimum to maximum value based on the tick size\n",
    "bins = np.arange(df['H-L'].min(), df['H-L'].max() + tick_size, tick_size)\n",
    "print(bins)\n",
    "# Plot the histogram with the specified bins\n",
    "df['H-L'].hist(bins=bins, rwidth=1)\n",
    "\n",
    "# Add labels and title\n",
    "plt.xlabel('Values')\n",
    "plt.ylabel('Counts')\n",
    "plt.title(f'Histogram with Tick Size of {tick_size}')"
   ]
  },
  {
   "cell_type": "markdown",
   "id": "9d68c492-f703-49c7-ae61-e8a2f4f85d41",
   "metadata": {},
   "source": [
    "#### Visualizing trend"
   ]
  },
  {
   "cell_type": "markdown",
   "id": "451aa251-0558-4c1e-8200-9b1633fc6870",
   "metadata": {},
   "source": [
    "plt.plot(x,y,color)"
   ]
  },
  {
   "cell_type": "code",
   "execution_count": 188,
   "id": "74dfa6c2-bc07-4afe-af51-4e3792c51f73",
   "metadata": {},
   "outputs": [
    {
     "data": {
      "text/plain": [
       "[<matplotlib.lines.Line2D at 0x27083fe9c50>]"
      ]
     },
     "execution_count": 188,
     "metadata": {},
     "output_type": "execute_result"
    },
    {
     "data": {
      "image/png": "[encoded data removed]",
      "text/plain": [
       "<Figure size 1200x600 with 1 Axes>"
      ]
     },
     "metadata": {},
     "output_type": "display_data"
    }
   ],
   "source": [
    "import matplotlib.pyplot as plt\n",
    "\n",
    "plt.figure(figsize=(12, 6))\n",
    "# Plot Close prices\n",
    "plt.plot(df['Timestamp (UTC)'], df['Close'], label='Close', color='black', lw=0.2)\n",
    "\n",
    "# Plot shorter-period moving average\n",
    "plt.plot(df['Timestamp (UTC)'], df['MA_S'], label='MA S', color='orange')\n",
    "\n",
    "# Plot longer-period moving average\n",
    "plt.plot(df['Timestamp (UTC)'], df['MA_L'], label='MA L', color='blue')"
   ]
  },
  {
   "cell_type": "code",
   "execution_count": null,
   "id": "d6c7a2b7-3056-44e7-b775-f8712a2e61dc",
   "metadata": {},
   "outputs": [],
   "source": []
  }
 ],
 "metadata": {
  "kernelspec": {
   "display_name": "Python 3 (ipykernel)",
   "language": "python",
   "name": "python3"
  },
  "language_info": {
   "codemirror_mode": {
    "name": "ipython",
    "version": 3
   },
   "file_extension": ".py",
   "mimetype": "text/x-python",
   "name": "python",
   "nbconvert_exporter": "python",
   "pygments_lexer": "ipython3",
   "version": "3.11.7"
  }
 },
 "nbformat": 4,
 "nbformat_minor": 5
}
